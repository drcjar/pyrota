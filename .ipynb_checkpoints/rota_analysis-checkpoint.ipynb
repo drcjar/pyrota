{
 "metadata": {
  "name": ""
 },
 "nbformat": 3,
 "nbformat_minor": 0,
 "worksheets": [
  {
   "cells": [
    {
     "cell_type": "heading",
     "level": 2,
     "metadata": {},
     "source": [
      "Herein we look at the Chelsea and Westminster on call medical rota for registrars spanning 4/8/14 - 4/8/15 using the rota as downloaded from the intranet on 30/1/15"
     ]
    },
    {
     "cell_type": "code",
     "collapsed": false,
     "input": [
      "import pandas as pd\n",
      "from pandas import PeriodIndex, date_range\n",
      "from pandas import DataFrame"
     ],
     "language": "python",
     "metadata": {},
     "outputs": [],
     "prompt_number": 1
    },
    {
     "cell_type": "code",
     "collapsed": false,
     "input": [
      "#read our file which we prepared by saving the .xlsx as a .csv for sheet of interest\n",
      "df = pd.read_csv('data/jan30.csv')"
     ],
     "language": "python",
     "metadata": {},
     "outputs": [],
     "prompt_number": 2
    },
    {
     "cell_type": "code",
     "collapsed": false,
     "input": [
      "#see what shape it is\n",
      "df.shape"
     ],
     "language": "python",
     "metadata": {},
     "outputs": [
      {
       "metadata": {},
       "output_type": "pyout",
       "prompt_number": 3,
       "text": [
        "(367, 17)"
       ]
      }
     ],
     "prompt_number": 3
    },
    {
     "cell_type": "code",
     "collapsed": false,
     "input": [
      "#cut the bit of interest (date columns and registrar columns)\n",
      "rows = range(1,367)\n",
      "cols = [0,1,7,8,9]"
     ],
     "language": "python",
     "metadata": {},
     "outputs": [],
     "prompt_number": 4
    },
    {
     "cell_type": "code",
     "collapsed": false,
     "input": [
      "#throw away bit not of interest\n",
      "df = df.iloc[rows, cols]"
     ],
     "language": "python",
     "metadata": {},
     "outputs": [],
     "prompt_number": 5
    },
    {
     "cell_type": "code",
     "collapsed": false,
     "input": [
      "#define our columns\n",
      "df.columns = ['Day', 'Date','Day reg', 'Night reg', 'L1 reg']"
     ],
     "language": "python",
     "metadata": {},
     "outputs": [],
     "prompt_number": 6
    },
    {
     "cell_type": "code",
     "collapsed": false,
     "input": [
      "#check looks sane\n",
      "df.head()"
     ],
     "language": "python",
     "metadata": {},
     "outputs": [
      {
       "html": [
        "<div style=\"max-height:1000px;max-width:1500px;overflow:auto;\">\n",
        "<table border=\"1\" class=\"dataframe\">\n",
        "  <thead>\n",
        "    <tr style=\"text-align: right;\">\n",
        "      <th></th>\n",
        "      <th>Day</th>\n",
        "      <th>Date</th>\n",
        "      <th>Day reg</th>\n",
        "      <th>Night reg</th>\n",
        "      <th>L1 reg</th>\n",
        "    </tr>\n",
        "  </thead>\n",
        "  <tbody>\n",
        "    <tr>\n",
        "      <th>1</th>\n",
        "      <td> Mon</td>\n",
        "      <td> 4/8/14</td>\n",
        "      <td>     Sophie Stevens</td>\n",
        "      <td>       Nash Aldin</td>\n",
        "      <td> NaN</td>\n",
        "    </tr>\n",
        "    <tr>\n",
        "      <th>2</th>\n",
        "      <td> Tue</td>\n",
        "      <td> 5/8/14</td>\n",
        "      <td>     Sophie Stevens</td>\n",
        "      <td>       Nash Aldin</td>\n",
        "      <td> NaN</td>\n",
        "    </tr>\n",
        "    <tr>\n",
        "      <th>3</th>\n",
        "      <td> Wed</td>\n",
        "      <td> 6/8/14</td>\n",
        "      <td>     Sophie Stevens</td>\n",
        "      <td>       Nash Aldin</td>\n",
        "      <td> NaN</td>\n",
        "    </tr>\n",
        "    <tr>\n",
        "      <th>4</th>\n",
        "      <td> Thu</td>\n",
        "      <td> 7/8/14</td>\n",
        "      <td>     Sophie Stevens</td>\n",
        "      <td>       Nash Aldin</td>\n",
        "      <td> NaN</td>\n",
        "    </tr>\n",
        "    <tr>\n",
        "      <th>5</th>\n",
        "      <td> Fri</td>\n",
        "      <td> 8/8/14</td>\n",
        "      <td> Sai L Duraisingham</td>\n",
        "      <td> Kesavan Kandiah </td>\n",
        "      <td> NaN</td>\n",
        "    </tr>\n",
        "  </tbody>\n",
        "</table>\n",
        "<p>5 rows \u00d7 5 columns</p>\n",
        "</div>"
       ],
       "metadata": {},
       "output_type": "pyout",
       "prompt_number": 7,
       "text": [
        "   Day    Date             Day reg         Night reg L1 reg\n",
        "1  Mon  4/8/14      Sophie Stevens        Nash Aldin    NaN\n",
        "2  Tue  5/8/14      Sophie Stevens        Nash Aldin    NaN\n",
        "3  Wed  6/8/14      Sophie Stevens        Nash Aldin    NaN\n",
        "4  Thu  7/8/14      Sophie Stevens        Nash Aldin    NaN\n",
        "5  Fri  8/8/14  Sai L Duraisingham  Kesavan Kandiah     NaN\n",
        "\n",
        "[5 rows x 5 columns]"
       ]
      }
     ],
     "prompt_number": 7
    },
    {
     "cell_type": "code",
     "collapsed": false,
     "input": [
      "#make a list of the registrars nb only includes people doing a least one day reg shift\n",
      "registrars = list(df['Day reg'].unique())"
     ],
     "language": "python",
     "metadata": {},
     "outputs": [],
     "prompt_number": 8
    },
    {
     "cell_type": "code",
     "collapsed": false,
     "input": [
      "#top ten for number of day shifts (over year Aug 2014 to Aug 2015 that rota covers)\n",
      "df['Day reg'].value_counts().head(10)"
     ],
     "language": "python",
     "metadata": {},
     "outputs": [
      {
       "metadata": {},
       "output_type": "pyout",
       "prompt_number": 9,
       "text": [
        "Jonathon Landy          29\n",
        "Jonathon Nolan          26\n",
        "Matthew Allum           25\n",
        "Johanna Maziar          25\n",
        "Evangelia Fatourou      23\n",
        "Priya Ramachandran      19\n",
        "Carl Reynolds           19\n",
        "Christopher Sin Chan    17\n",
        "Eka Nandoshvili         17\n",
        "Abdulkani Yusuf         15\n",
        "dtype: int64"
       ]
      }
     ],
     "prompt_number": 9
    },
    {
     "cell_type": "code",
     "collapsed": false,
     "input": [
      "#top ten for number of night shifts (over year Aug 2014 to Aug 2015 that rota covers)\n",
      "df['Night reg'].value_counts().head(10)"
     ],
     "language": "python",
     "metadata": {},
     "outputs": [
      {
       "metadata": {},
       "output_type": "pyout",
       "prompt_number": 29,
       "text": [
        "Abdulkani Yusuf         33\n",
        "Evangelia Fatourou      27\n",
        "Jonathon Landy          26\n",
        "Hisham Nizar            21\n",
        "Eka Nandoshvili         21\n",
        "Jonathon Nolan          20\n",
        "Johanna Maziar          19\n",
        "Christopher Sin Chan    18\n",
        "James Millard           18\n",
        "Matthew Allum           17\n",
        "dtype: int64"
       ]
      }
     ],
     "prompt_number": 29
    },
    {
     "cell_type": "code",
     "collapsed": false,
     "input": [
      "#top ten for number of L1 shifts (over year Aug 2014 to Aug 2015 that rota covers)\n",
      "df['L1 reg'].value_counts().head(10)"
     ],
     "language": "python",
     "metadata": {},
     "outputs": [
      {
       "metadata": {},
       "output_type": "pyout",
       "prompt_number": 30,
       "text": [
        "Matthew Allum           8\n",
        "Johanna Maziar          8\n",
        "Christopher Sin Chan    6\n",
        "Eleni Baldwin           6\n",
        "Carl Reynolds           6\n",
        "Eka Nandoshvili         6\n",
        "Priya Ramachandran      6\n",
        "Abdulkani Yusuf         6\n",
        "Jonathon Nolan          5\n",
        "Mohammed Abedin         4\n",
        "dtype: int64"
       ]
      }
     ],
     "prompt_number": 30
    },
    {
     "cell_type": "code",
     "collapsed": false,
     "input": [
      "#lets define the shift types and how many hours they have\n",
      "shifttypes = ['Day reg', 'Night reg', 'L1 reg']\n",
      "dayhours = {'Mon':9.5, 'Tue':10, 'Wed':9.5, 'Thu':10, 'Fri':9.5, 'Sat':12, 'Sun':12}\n",
      "nighthours = {'Mon':13, 'Tue':13, 'Wed':13, 'Thu':13, 'Fri':13, 'Sat':13, 'Sun':13}\n",
      "L1hours = {'Sat':8, 'Sun':8}"
     ],
     "language": "python",
     "metadata": {},
     "outputs": [],
     "prompt_number": 12
    },
    {
     "cell_type": "code",
     "collapsed": false,
     "input": [
      "#lets look at how many hours Carl does for each type of shift\n",
      "print df[df['Day reg'] == 'Carl Reynolds']['Day'].map(dayhours.get).sum()\n",
      "print df[df['Night reg'] == 'Carl Reynolds']['Day'].map(nighthours.get).sum()\n",
      "print df[df['L1 reg'] == 'Carl Reynolds']['Day'].map(L1hours.get).sum()"
     ],
     "language": "python",
     "metadata": {},
     "outputs": [
      {
       "output_type": "stream",
       "stream": "stdout",
       "text": [
        "189.5\n",
        "221\n",
        "48\n"
       ]
      }
     ],
     "prompt_number": 13
    },
    {
     "cell_type": "code",
     "collapsed": false,
     "input": [
      "#lets look at how many hours each reg does for each shift\n",
      "reg_hours = {}\n",
      "\n",
      "for reg in registrars:\n",
      "    reg_hours[reg] = {}\n",
      "    reg_hours[reg]['Day reg'] = df[df['Day reg'] == reg]['Day'].map(dayhours.get).sum()\n",
      "    reg_hours[reg]['Night reg'] = df[df['Night reg'] == reg]['Day'].map(nighthours.get).sum()\n",
      "    reg_hours[reg]['L1 reg'] = df[df['L1 reg'] == reg]['Day'].map(L1hours.get).sum()\n"
     ],
     "language": "python",
     "metadata": {},
     "outputs": [],
     "prompt_number": 14
    },
    {
     "cell_type": "code",
     "collapsed": false,
     "input": [
      "#sanity check\n",
      "reg_hours['Carl Reynolds']"
     ],
     "language": "python",
     "metadata": {},
     "outputs": [
      {
       "metadata": {},
       "output_type": "pyout",
       "prompt_number": 15,
       "text": [
        "{'Day reg': 189.5, 'L1 reg': 48, 'Night reg': 221}"
       ]
      }
     ],
     "prompt_number": 15
    },
    {
     "cell_type": "code",
     "collapsed": false,
     "input": [
      "#lets save some output\n",
      "df1 = pd.DataFrame.from_dict(reg_hours)\n",
      "df1.transpose().to_csv('Reg_hours_on_call.csv')\n",
      "df2 = df1.sum()\n",
      "df2.sort(ascending=False)\n",
      "df2.to_csv('Reg_total_hours_on_call.csv')"
     ],
     "language": "python",
     "metadata": {},
     "outputs": [],
     "prompt_number": 16
    },
    {
     "cell_type": "code",
     "collapsed": false,
     "input": [
      "#top 5 weekend workers day shift 0800-2000\n",
      "print df[(df['Day'] == 'Sat') | (df['Day'] == 'Sun')]['Day reg'].value_counts()[:5]"
     ],
     "language": "python",
     "metadata": {},
     "outputs": [
      {
       "output_type": "stream",
       "stream": "stdout",
       "text": [
        "Evangelia Fatourou    10\n",
        "Jonathon Nolan         8\n",
        "Johanna Maziar         6\n",
        "Jonathon Landy         6\n",
        "Matthew Allum          6\n",
        "dtype: int64\n"
       ]
      }
     ],
     "prompt_number": 25
    },
    {
     "cell_type": "code",
     "collapsed": false,
     "input": [
      "#top 5 weekend workers night shift 2000-0900\n",
      "print df[(df['Day'] == 'Sat') | (df['Day'] == 'Sun')]['Night reg'].value_counts()[:5]"
     ],
     "language": "python",
     "metadata": {},
     "outputs": [
      {
       "output_type": "stream",
       "stream": "stdout",
       "text": [
        "Evangelia Fatourou    10\n",
        "Matthew Allum         10\n",
        "Jonathon Nolan        10\n",
        "Abdulkani Yusuf        8\n",
        "Hisham Nizar           7\n",
        "dtype: int64\n"
       ]
      }
     ],
     "prompt_number": 27
    },
    {
     "cell_type": "code",
     "collapsed": false,
     "input": [
      "#top 5 weekend workers level 1 shift 0900-1700\n",
      "print df[(df['Day'] == 'Sat') | (df['Day'] == 'Sun')]['L1 reg'].value_counts()[:5]"
     ],
     "language": "python",
     "metadata": {},
     "outputs": [
      {
       "output_type": "stream",
       "stream": "stdout",
       "text": [
        "Matthew Allum      8\n",
        "Johanna Maziar     8\n",
        "Eka Nandoshvili    6\n",
        "Eleni Baldwin      6\n",
        "Carl Reynolds      6\n",
        "dtype: int64\n"
       ]
      }
     ],
     "prompt_number": 28
    },
    {
     "cell_type": "code",
     "collapsed": false,
     "input": [],
     "language": "python",
     "metadata": {},
     "outputs": []
    }
   ],
   "metadata": {}
  }
 ]
}