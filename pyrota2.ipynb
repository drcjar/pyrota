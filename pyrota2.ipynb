{
 "metadata": {
  "name": "",
  "signature": "sha256:9cc579e5d4fa97182355785656095d1e6805a0d5bec453498b1859a323a58924"
 },
 "nbformat": 3,
 "nbformat_minor": 0,
 "worksheets": [
  {
   "cells": [
    {
     "cell_type": "code",
     "collapsed": false,
     "input": [
      "import pandas as pd"
     ],
     "language": "python",
     "metadata": {},
     "outputs": [],
     "prompt_number": 27
    },
    {
     "cell_type": "code",
     "collapsed": false,
     "input": [
      "df = pd.read_csv('data/oncallrota.csv', skiprows=1)"
     ],
     "language": "python",
     "metadata": {},
     "outputs": [],
     "prompt_number": 28
    },
    {
     "cell_type": "code",
     "collapsed": false,
     "input": [
      "df['Day Reg Mon, Wed & Fri 11-20.30, Tue & Thu 8-18, Sat & Sun 8-20'].value_counts()"
     ],
     "language": "python",
     "metadata": {},
     "outputs": [
      {
       "metadata": {},
       "output_type": "pyout",
       "prompt_number": 29,
       "text": [
        "Jonathon Landy                    29\n",
        "Jonathon Nolan                    26\n",
        "Matthew Allum                     25\n",
        "Johanna Maziar                    21\n",
        "Evangelia Fatourou                20\n",
        "Priya Ramachandran                19\n",
        "Carl Reynolds                     19\n",
        "Eka Nandoshvili                   17\n",
        "Abdulkani Yusuf                   15\n",
        "Eleni Baldwin                     14\n",
        "Christopher Sin Chan              14\n",
        "Palmira Mathurdas                 14\n",
        "Mohammed Abedin                   12\n",
        "Ekta Patel                        11\n",
        "Alex Salem                         8\n",
        "James Millard                      7\n",
        "Julian Lentaigne                   7\n",
        "Lucy Lamb                          7\n",
        "Gagandeep Takhar                   6\n",
        "Endo 3                             4\n",
        "Alexander Clarke                   4\n",
        "Ash Sadighi                        4\n",
        "MOhammed Abedin                    4\n",
        "Hisham Nizar                       4\n",
        "Alex Clarke                        4\n",
        "Sophie Stevens                     4\n",
        "AAU Team                           3\n",
        "Mudhar Abdul Sahed                 3\n",
        "Will Mcnulty                       3\n",
        "Chris Groves                       3\n",
        "Sai L Duraisingham                 3\n",
        "Rebecca Mills                      3\n",
        "Jonathon Segal                     3\n",
        "Luke Smith                         3\n",
        "Despoina Papamichail               3\n",
        "Damian Jenkins                     2\n",
        "Luke Smith                         2\n",
        "Unfilled                           2\n",
        "Caroline Paterson                  2\n",
        "Despoina Papamichelle              2\n",
        "Caroline Patterson                 2\n",
        "Despoina  and Abdul from 17:00     1\n",
        "Dr. Jasmine Ishorari               1\n",
        "Caroline Paterson                  1\n",
        "Jessica Longley                    1\n",
        "Suzanne Pomfrett                   1\n",
        "Iain Parsons                       1\n",
        "Hannah Gordon                      1\n",
        "dtype: int64"
       ]
      }
     ],
     "prompt_number": 29
    },
    {
     "cell_type": "code",
     "collapsed": false,
     "input": [
      "df['Night Reg\\n20.00-09.00'].value_counts()"
     ],
     "language": "python",
     "metadata": {},
     "outputs": [
      {
       "metadata": {},
       "output_type": "pyout",
       "prompt_number": 19,
       "text": [
        "Abdulkani Yusuf          33\n",
        "Evangelia Fatourou       27\n",
        "Jonathon Landy           26\n",
        "Hisham Nizar             21\n",
        "Eka Nandoshvili          21\n",
        "Jonathon Nolan           20\n",
        "Johanna Maziar           19\n",
        "Christopher Sin Chan     18\n",
        "James Millard            18\n",
        "Matthew Allum            17\n",
        "Priya Ramachandran       17\n",
        "Carl Reynolds            17\n",
        "Eleni Baldwin            13\n",
        "Palmira Mathurdas        11\n",
        "Mohammad Abedin           8\n",
        "Alex Salem                7\n",
        "Lucy Lamb                 7\n",
        "Ekta Patel                7\n",
        "Chris Groves              6\n",
        "Despoina Papamichail      5\n",
        "Endo 3                    4\n",
        "Alex Salem                4\n",
        "Nash Aldin                4\n",
        "Caroline Patterson        4\n",
        "Julian Lentaigne          4\n",
        "Maria Bashyam             4\n",
        "abdulkani Yusuf           3\n",
        "Resp 1                    3\n",
        "Chris Sin Chan            3\n",
        "Alexander Clarke          3\n",
        "Kesavan Kandiah           3\n",
        "Gagandeep Takhar          3\n",
        "Hannah Gordon             3\n",
        "Luke Smith                1\n",
        "Iain Parsons              1\n",
        "Iain Parson               1\n",
        "dtype: int64"
       ]
      }
     ],
     "prompt_number": 19
    },
    {
     "cell_type": "code",
     "collapsed": false,
     "input": [
      "df['L1 Reg\\n09.00-17.00'].value_counts()"
     ],
     "language": "python",
     "metadata": {},
     "outputs": [
      {
       "metadata": {},
       "output_type": "pyout",
       "prompt_number": 25,
       "text": [
        "Johanna Maziar          8\n",
        "Matthew Allum           8\n",
        "Priya Ramachandran      6\n",
        "Christopher Sin Chan    6\n",
        "Carl Reynolds           6\n",
        "Eka Nandoshvili         6\n",
        "Abdulkani Yusuf         6\n",
        "Jonathon Nolan          5\n",
        "James Millard           4\n",
        "Mohammed Abedin         4\n",
        "Jonathon Landy          4\n",
        "Luke Smith              3\n",
        "unfilled                3\n",
        "Eleni Baldwin           3\n",
        "Jonathon Nolan          3\n",
        "Lucy Lamb               2\n",
        "Alex Salam              2\n",
        "Rebecca Mills           2\n",
        "Maria Bashyam           2\n",
        "Hisham Nizar            2\n",
        "Alex Salem              2\n",
        "Evangelia Fatourou      2\n",
        "Chris Groves            2\n",
        "Palmira Mathurdas       2\n",
        "Ekta Patel              2\n",
        "Hisham Nizar            2\n",
        "Will McNulty            1\n",
        "Mohammed Abedin         1\n",
        "Will McNulty            1\n",
        "Alex Clarke             1\n",
        "Alex Clarke             1\n",
        "Suzie Pomfrett          1\n",
        "Chris Sin Chan          1\n",
        "dtype: int64"
       ]
      }
     ],
     "prompt_number": 25
    },
    {
     "cell_type": "code",
     "collapsed": false,
     "input": [
      "df['Day Reg Mon, Wed & Fri 11-20.30, Tue & Thu 8-18, Sat & Sun 8-20']"
     ],
     "language": "python",
     "metadata": {},
     "outputs": [
      {
       "metadata": {},
       "output_type": "pyout",
       "prompt_number": 26,
       "text": [
        "0         Sophie Stevens\n",
        "1         Sophie Stevens\n",
        "2         Sophie Stevens\n",
        "3         Sophie Stevens\n",
        "4     Sai L Duraisingham\n",
        "5     Sai L Duraisingham\n",
        "6     Sai L Duraisingham\n",
        "7          Carl Reynolds\n",
        "8          Carl Reynolds\n",
        "9          Carl Reynolds\n",
        "10                      \n",
        "11      Julian Lentaigne\n",
        "12      Julian Lentaigne\n",
        "13      Julian Lentaigne\n",
        "14         Matthew Allum\n",
        "...\n",
        "351           Ekta Patel \n",
        "352           Ekta Patel \n",
        "353           Ekta Patel \n",
        "354     Palmira Mathurdas\n",
        "355     Palmira Mathurdas\n",
        "356     Palmira Mathurdas\n",
        "357             Lucy Lamb\n",
        "358             Lucy Lamb\n",
        "359             Lucy Lamb\n",
        "360             Lucy Lamb\n",
        "361       Eka Nandoshvili\n",
        "362       Eka Nandoshvili\n",
        "363       Eka Nandoshvili\n",
        "364    Priya Ramachandran\n",
        "365    Priya Ramachandran\n",
        "Name: Day Reg Mon, Wed & Fri 11-20.30, Tue & Thu 8-18, Sat & Sun 8-20, Length: 366, dtype: object"
       ]
      }
     ],
     "prompt_number": 26
    },
    {
     "cell_type": "code",
     "collapsed": false,
     "input": [],
     "language": "python",
     "metadata": {},
     "outputs": []
    }
   ],
   "metadata": {}
  }
 ]
}