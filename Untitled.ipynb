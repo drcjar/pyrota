{
 "cells": [
  {
   "cell_type": "code",
   "execution_count": 3,
   "metadata": {
    "collapsed": false
   },
   "outputs": [
    {
     "name": "stdout",
     "output_type": "stream",
     "text": [
      "Test leaves spaces fail!\n"
     ]
    },
    {
     "ename": "ValueError",
     "evalue": "invalid literal for int() with base 10: '--profile-dir'",
     "output_type": "error",
     "traceback": [
      "\u001b[1;31m---------------------------------------------------------------------------\u001b[0m",
      "\u001b[1;31mValueError\u001b[0m                                Traceback (most recent call last)",
      "\u001b[1;32m<ipython-input-3-b37a815f7ed2>\u001b[0m in \u001b[0;36m<module>\u001b[1;34m()\u001b[0m\n\u001b[0;32m     42\u001b[0m   \u001b[0mop\u001b[0m \u001b[1;33m=\u001b[0m \u001b[0msys\u001b[0m\u001b[1;33m.\u001b[0m\u001b[0margv\u001b[0m\u001b[1;33m[\u001b[0m\u001b[1;36m1\u001b[0m\u001b[1;33m]\u001b[0m\u001b[1;33m.\u001b[0m\u001b[0mlower\u001b[0m\u001b[1;33m(\u001b[0m\u001b[1;33m)\u001b[0m\u001b[1;33m\u001b[0m\u001b[0m\n\u001b[0;32m     43\u001b[0m   \u001b[0mtext\u001b[0m \u001b[1;33m=\u001b[0m \u001b[0msys\u001b[0m\u001b[1;33m.\u001b[0m\u001b[0margv\u001b[0m\u001b[1;33m[\u001b[0m\u001b[1;36m2\u001b[0m\u001b[1;33m]\u001b[0m\u001b[1;33m\u001b[0m\u001b[0m\n\u001b[1;32m---> 44\u001b[1;33m   \u001b[0mshift\u001b[0m \u001b[1;33m=\u001b[0m \u001b[0mint\u001b[0m\u001b[1;33m(\u001b[0m\u001b[0msys\u001b[0m\u001b[1;33m.\u001b[0m\u001b[0margv\u001b[0m\u001b[1;33m[\u001b[0m\u001b[1;36m3\u001b[0m\u001b[1;33m]\u001b[0m\u001b[1;33m)\u001b[0m\u001b[1;33m\u001b[0m\u001b[0m\n\u001b[0m\u001b[0;32m     45\u001b[0m   \u001b[1;32mif\u001b[0m \u001b[0mop\u001b[0m \u001b[1;33m==\u001b[0m \u001b[1;34m'd'\u001b[0m\u001b[1;33m:\u001b[0m\u001b[1;33m\u001b[0m\u001b[0m\n\u001b[0;32m     46\u001b[0m       \u001b[0mshift\u001b[0m \u001b[1;33m=\u001b[0m \u001b[1;33m-\u001b[0m\u001b[0mshift\u001b[0m\u001b[1;33m\u001b[0m\u001b[0m\n",
      "\u001b[1;31mValueError\u001b[0m: invalid literal for int() with base 10: '--profile-dir'"
     ]
    }
   ],
   "source": [
    "import sys\n",
    "\n",
    "def run(text, shift):\n",
    "  text = text.lower()\n",
    "  ord_of_a = ord('a')\n",
    "  result = ''\n",
    "  for letter in text:\n",
    "      if letter in 'qwertyuiopasdfghjklzxcvbnm':\n",
    "        letter = chr(abs((ord(letter) - ord_of_a + shift) % 26 + ord_of_a))\n",
    "      result += letter\n",
    "  return result\n",
    "\n",
    "def test_a_to_b():\n",
    "   actual = run('a', 1)\n",
    "   expected = 'b'\n",
    "   if actual != expected:\n",
    "     print 'Test a to b fail!'\n",
    "\n",
    "def test_z_to_a():\n",
    "   actual = run('z', 1)\n",
    "   expected = 'a'\n",
    "   if actual != expected:\n",
    "     print 'Test z to a fail!'\n",
    "\n",
    "def test_leaves_spaces():\n",
    "   actual = run('Hello World', 1)\n",
    "   expected = 'Ifmmp Xpsme'\n",
    "   if actual != expected:\n",
    "     print 'Test leaves spaces fail!'\n",
    "\n",
    "def test_decrypt():\n",
    "   actual = run('ifmmp xpsme', -1)\n",
    "   expected = 'hello world'\n",
    "   if actual != expected:\n",
    "     print 'Test decrypt fail!'\n",
    "\n",
    "if __name__=='__main__':\n",
    "  test_a_to_b()\n",
    "  test_z_to_a()\n",
    "  test_leaves_spaces()\n",
    "  test_decrypt()\n",
    "  op = sys.argv[1].lower()\n",
    "  text = sys.argv[2]\n",
    "  shift = int(sys.argv[3])\n",
    "  if op == 'd':\n",
    "      shift = -shift\n",
    "  print run(text, shift)"
   ]
  },
  {
   "cell_type": "code",
   "execution_count": null,
   "metadata": {
    "collapsed": true
   },
   "outputs": [],
   "source": []
  }
 ],
 "metadata": {
  "kernelspec": {
   "display_name": "Python 2",
   "language": "python",
   "name": "python2"
  },
  "language_info": {
   "codemirror_mode": {
    "name": "ipython",
    "version": 2
   },
   "file_extension": ".py",
   "mimetype": "text/x-python",
   "name": "python",
   "nbconvert_exporter": "python",
   "pygments_lexer": "ipython2",
   "version": "2.7.6"
  }
 },
 "nbformat": 4,
 "nbformat_minor": 0
}
