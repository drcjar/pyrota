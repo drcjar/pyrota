{
 "cells": [
  {
   "cell_type": "code",
   "execution_count": 1,
   "metadata": {
    "collapsed": false
   },
   "outputs": [],
   "source": [
    "import pandas as pd\n",
    "import datetime\n",
    "from pandas import PeriodIndex, date_range\n",
    "from pandas import DataFrame\n"
   ]
  },
  {
   "cell_type": "code",
   "execution_count": 10,
   "metadata": {
    "collapsed": false
   },
   "outputs": [],
   "source": [
    "df.to_csv('planning.csv')"
   ]
  },
  {
   "cell_type": "code",
   "execution_count": 11,
   "metadata": {
    "collapsed": false
   },
   "outputs": [
    {
     "data": {
      "text/plain": [
       "30.416666666666668"
      ]
     },
     "execution_count": 11,
     "metadata": {},
     "output_type": "execute_result"
    }
   ],
   "source": [
    "365/float(12)"
   ]
  },
  {
   "cell_type": "code",
   "execution_count": 12,
   "metadata": {
    "collapsed": false
   },
   "outputs": [],
   "source": [
    "df1 = pd.read_csv('planning2.csv')"
   ]
  },
  {
   "cell_type": "code",
   "execution_count": 13,
   "metadata": {
    "collapsed": false
   },
   "outputs": [],
   "source": [
    "df1.Month = df1.Month.fillna(method='pad')"
   ]
  },
  {
   "cell_type": "code",
   "execution_count": 14,
   "metadata": {
    "collapsed": false
   },
   "outputs": [],
   "source": [
    "df1['L1 reg'] = df1['L1 reg'].fillna('n/a')"
   ]
  },
  {
   "cell_type": "code",
   "execution_count": 15,
   "metadata": {
    "collapsed": false
   },
   "outputs": [],
   "source": [
    "df2 = df1[['Month','DateTime', 'Day', 'Day reg', 'Night reg', 'L1 reg']]"
   ]
  },
  {
   "cell_type": "code",
   "execution_count": 16,
   "metadata": {
    "collapsed": false
   },
   "outputs": [],
   "source": [
    "df2.to_csv('planning3.csv')"
   ]
  },
  {
   "cell_type": "code",
   "execution_count": 17,
   "metadata": {
    "collapsed": false
   },
   "outputs": [],
   "source": [
    "doc_names = ['name1', 'name2', 'name3', 'name4', 'name5',\n",
    "             'name6', 'name7', 'name8', 'name9', 'name10','name11',\n",
    "             'name12', 'name13', 'name14', 'name15']"
   ]
  },
  {
   "cell_type": "code",
   "execution_count": 18,
   "metadata": {
    "collapsed": false
   },
   "outputs": [],
   "source": [
    "doc_lookup = dict(zip(doctors['reg'], doc_names))"
   ]
  },
  {
   "cell_type": "code",
   "execution_count": 19,
   "metadata": {
    "collapsed": false
   },
   "outputs": [
    {
     "data": {
      "text/plain": [
       "{1: 'name1',\n",
       " 2: 'name2',\n",
       " 3: 'name3',\n",
       " 4: 'name4',\n",
       " 5: 'name5',\n",
       " 6: 'name6',\n",
       " 7: 'name7',\n",
       " 8: 'name8',\n",
       " 9: 'name9',\n",
       " 10: 'name10',\n",
       " 11: 'name11',\n",
       " 12: 'name12',\n",
       " 13: 'name13',\n",
       " 14: 'name14',\n",
       " 15: 'name15'}"
      ]
     },
     "execution_count": 19,
     "metadata": {},
     "output_type": "execute_result"
    }
   ],
   "source": [
    "doc_lookup"
   ]
  },
  {
   "cell_type": "code",
   "execution_count": 20,
   "metadata": {
    "collapsed": false
   },
   "outputs": [],
   "source": [
    "st = 1\n",
    "en = 16\n",
    "#months = {}\n",
    "#for i in range(0,15):\n",
    "#  print range(st+i, en+i)\n",
    "rota_months = ['month', \n",
    "               'm1', 'm2', 'm3', 'm4', 'spare1','m5', 'm6', \n",
    "               'm1.2', 'm2.2', 'm3.2', 'm4.2', 'spare1.2', 'm5.2', 'm6.2',\n",
    "               'float']"
   ]
  },
  {
   "cell_type": "code",
   "execution_count": 21,
   "metadata": {
    "collapsed": false
   },
   "outputs": [],
   "source": [
    "lookup = pd.read_csv('lookup.csv')"
   ]
  },
  {
   "cell_type": "code",
   "execution_count": 22,
   "metadata": {
    "collapsed": false
   },
   "outputs": [],
   "source": [
    "for column in lookup.columns:\n",
    "    lookup[column] = lookup[column].map(lambda x: (x) if x < 16 else (x-15))\n",
    "    lookup[column] = lookup[column].map(doc_lookup.get)"
   ]
  },
  {
   "cell_type": "code",
   "execution_count": 23,
   "metadata": {
    "collapsed": false
   },
   "outputs": [],
   "source": [
    "lookup.to_csv('lookup2.csv')"
   ]
  },
  {
   "cell_type": "code",
   "execution_count": 24,
   "metadata": {
    "collapsed": false
   },
   "outputs": [
    {
     "data": {
      "text/html": [
       "<div style=\"max-height:1000px;max-width:1500px;overflow:auto;\">\n",
       "<table border=\"1\" class=\"dataframe\">\n",
       "  <thead>\n",
       "    <tr style=\"text-align: right;\">\n",
       "      <th></th>\n",
       "      <th>m1</th>\n",
       "      <th>m2</th>\n",
       "      <th>m3</th>\n",
       "      <th>z1</th>\n",
       "      <th>m4</th>\n",
       "      <th>m5</th>\n",
       "      <th>m6</th>\n",
       "      <th>M1.2</th>\n",
       "      <th>M2.2</th>\n",
       "      <th>M3.2</th>\n",
       "      <th>z2</th>\n",
       "      <th>M4.2</th>\n",
       "      <th>M5.2</th>\n",
       "      <th>M6.2</th>\n",
       "      <th>float</th>\n",
       "    </tr>\n",
       "  </thead>\n",
       "  <tbody>\n",
       "    <tr>\n",
       "      <th>0 </th>\n",
       "      <td>  name1</td>\n",
       "      <td>  name2</td>\n",
       "      <td>  name3</td>\n",
       "      <td>  name4</td>\n",
       "      <td>  name5</td>\n",
       "      <td>  name6</td>\n",
       "      <td>  name7</td>\n",
       "      <td>  name8</td>\n",
       "      <td>  name9</td>\n",
       "      <td> name10</td>\n",
       "      <td> name11</td>\n",
       "      <td> name12</td>\n",
       "      <td> name13</td>\n",
       "      <td> name14</td>\n",
       "      <td> name15</td>\n",
       "    </tr>\n",
       "    <tr>\n",
       "      <th>1 </th>\n",
       "      <td>  name2</td>\n",
       "      <td>  name3</td>\n",
       "      <td>  name4</td>\n",
       "      <td>  name5</td>\n",
       "      <td>  name6</td>\n",
       "      <td>  name7</td>\n",
       "      <td>  name8</td>\n",
       "      <td>  name9</td>\n",
       "      <td> name10</td>\n",
       "      <td> name11</td>\n",
       "      <td> name12</td>\n",
       "      <td> name13</td>\n",
       "      <td> name14</td>\n",
       "      <td> name15</td>\n",
       "      <td>  name1</td>\n",
       "    </tr>\n",
       "    <tr>\n",
       "      <th>2 </th>\n",
       "      <td>  name3</td>\n",
       "      <td>  name4</td>\n",
       "      <td>  name5</td>\n",
       "      <td>  name6</td>\n",
       "      <td>  name7</td>\n",
       "      <td>  name8</td>\n",
       "      <td>  name9</td>\n",
       "      <td> name10</td>\n",
       "      <td> name11</td>\n",
       "      <td> name12</td>\n",
       "      <td> name13</td>\n",
       "      <td> name14</td>\n",
       "      <td> name15</td>\n",
       "      <td>  name1</td>\n",
       "      <td>  name2</td>\n",
       "    </tr>\n",
       "    <tr>\n",
       "      <th>3 </th>\n",
       "      <td>  name4</td>\n",
       "      <td>  name5</td>\n",
       "      <td>  name6</td>\n",
       "      <td>  name7</td>\n",
       "      <td>  name8</td>\n",
       "      <td>  name9</td>\n",
       "      <td> name10</td>\n",
       "      <td> name11</td>\n",
       "      <td> name12</td>\n",
       "      <td> name13</td>\n",
       "      <td> name14</td>\n",
       "      <td> name15</td>\n",
       "      <td>  name1</td>\n",
       "      <td>  name2</td>\n",
       "      <td>  name3</td>\n",
       "    </tr>\n",
       "    <tr>\n",
       "      <th>4 </th>\n",
       "      <td>  name5</td>\n",
       "      <td>  name6</td>\n",
       "      <td>  name7</td>\n",
       "      <td>  name8</td>\n",
       "      <td>  name9</td>\n",
       "      <td> name10</td>\n",
       "      <td> name11</td>\n",
       "      <td> name12</td>\n",
       "      <td> name13</td>\n",
       "      <td> name14</td>\n",
       "      <td> name15</td>\n",
       "      <td>  name1</td>\n",
       "      <td>  name2</td>\n",
       "      <td>  name3</td>\n",
       "      <td>  name4</td>\n",
       "    </tr>\n",
       "    <tr>\n",
       "      <th>5 </th>\n",
       "      <td>  name6</td>\n",
       "      <td>  name7</td>\n",
       "      <td>  name8</td>\n",
       "      <td>  name9</td>\n",
       "      <td> name10</td>\n",
       "      <td> name11</td>\n",
       "      <td> name12</td>\n",
       "      <td> name13</td>\n",
       "      <td> name14</td>\n",
       "      <td> name15</td>\n",
       "      <td>  name1</td>\n",
       "      <td>  name2</td>\n",
       "      <td>  name3</td>\n",
       "      <td>  name4</td>\n",
       "      <td>  name5</td>\n",
       "    </tr>\n",
       "    <tr>\n",
       "      <th>6 </th>\n",
       "      <td>  name7</td>\n",
       "      <td>  name8</td>\n",
       "      <td>  name9</td>\n",
       "      <td> name10</td>\n",
       "      <td> name11</td>\n",
       "      <td> name12</td>\n",
       "      <td> name13</td>\n",
       "      <td> name14</td>\n",
       "      <td> name15</td>\n",
       "      <td>  name1</td>\n",
       "      <td>  name2</td>\n",
       "      <td>  name3</td>\n",
       "      <td>  name4</td>\n",
       "      <td>  name5</td>\n",
       "      <td>  name6</td>\n",
       "    </tr>\n",
       "    <tr>\n",
       "      <th>7 </th>\n",
       "      <td>  name8</td>\n",
       "      <td>  name9</td>\n",
       "      <td> name10</td>\n",
       "      <td> name11</td>\n",
       "      <td> name12</td>\n",
       "      <td> name13</td>\n",
       "      <td> name14</td>\n",
       "      <td> name15</td>\n",
       "      <td>  name1</td>\n",
       "      <td>  name2</td>\n",
       "      <td>  name3</td>\n",
       "      <td>  name4</td>\n",
       "      <td>  name5</td>\n",
       "      <td>  name6</td>\n",
       "      <td>  name7</td>\n",
       "    </tr>\n",
       "    <tr>\n",
       "      <th>8 </th>\n",
       "      <td>  name9</td>\n",
       "      <td> name10</td>\n",
       "      <td> name11</td>\n",
       "      <td> name12</td>\n",
       "      <td> name13</td>\n",
       "      <td> name14</td>\n",
       "      <td> name15</td>\n",
       "      <td>  name1</td>\n",
       "      <td>  name2</td>\n",
       "      <td>  name3</td>\n",
       "      <td>  name4</td>\n",
       "      <td>  name5</td>\n",
       "      <td>  name6</td>\n",
       "      <td>  name7</td>\n",
       "      <td>  name8</td>\n",
       "    </tr>\n",
       "    <tr>\n",
       "      <th>9 </th>\n",
       "      <td> name10</td>\n",
       "      <td> name11</td>\n",
       "      <td> name12</td>\n",
       "      <td> name13</td>\n",
       "      <td> name14</td>\n",
       "      <td> name15</td>\n",
       "      <td>  name1</td>\n",
       "      <td>  name2</td>\n",
       "      <td>  name3</td>\n",
       "      <td>  name4</td>\n",
       "      <td>  name5</td>\n",
       "      <td>  name6</td>\n",
       "      <td>  name7</td>\n",
       "      <td>  name8</td>\n",
       "      <td>  name9</td>\n",
       "    </tr>\n",
       "    <tr>\n",
       "      <th>10</th>\n",
       "      <td> name11</td>\n",
       "      <td> name12</td>\n",
       "      <td> name13</td>\n",
       "      <td> name14</td>\n",
       "      <td> name15</td>\n",
       "      <td>  name1</td>\n",
       "      <td>  name2</td>\n",
       "      <td>  name3</td>\n",
       "      <td>  name4</td>\n",
       "      <td>  name5</td>\n",
       "      <td>  name6</td>\n",
       "      <td>  name7</td>\n",
       "      <td>  name8</td>\n",
       "      <td>  name9</td>\n",
       "      <td> name10</td>\n",
       "    </tr>\n",
       "    <tr>\n",
       "      <th>11</th>\n",
       "      <td> name12</td>\n",
       "      <td> name13</td>\n",
       "      <td> name14</td>\n",
       "      <td> name15</td>\n",
       "      <td>  name1</td>\n",
       "      <td>  name2</td>\n",
       "      <td>  name3</td>\n",
       "      <td>  name4</td>\n",
       "      <td>  name5</td>\n",
       "      <td>  name6</td>\n",
       "      <td>  name7</td>\n",
       "      <td>  name8</td>\n",
       "      <td>  name9</td>\n",
       "      <td> name10</td>\n",
       "      <td> name11</td>\n",
       "    </tr>\n",
       "    <tr>\n",
       "      <th>12</th>\n",
       "      <td> name13</td>\n",
       "      <td> name14</td>\n",
       "      <td> name15</td>\n",
       "      <td>  name1</td>\n",
       "      <td>  name2</td>\n",
       "      <td>  name3</td>\n",
       "      <td>  name4</td>\n",
       "      <td>  name5</td>\n",
       "      <td>  name6</td>\n",
       "      <td>  name7</td>\n",
       "      <td>  name8</td>\n",
       "      <td>  name9</td>\n",
       "      <td> name10</td>\n",
       "      <td> name11</td>\n",
       "      <td> name12</td>\n",
       "    </tr>\n",
       "    <tr>\n",
       "      <th>13</th>\n",
       "      <td> name14</td>\n",
       "      <td> name15</td>\n",
       "      <td>  name1</td>\n",
       "      <td>  name2</td>\n",
       "      <td>  name3</td>\n",
       "      <td>  name4</td>\n",
       "      <td>  name5</td>\n",
       "      <td>  name6</td>\n",
       "      <td>  name7</td>\n",
       "      <td>  name8</td>\n",
       "      <td>  name9</td>\n",
       "      <td> name10</td>\n",
       "      <td> name11</td>\n",
       "      <td> name12</td>\n",
       "      <td> name13</td>\n",
       "    </tr>\n",
       "    <tr>\n",
       "      <th>14</th>\n",
       "      <td> name15</td>\n",
       "      <td>  name1</td>\n",
       "      <td>  name2</td>\n",
       "      <td>  name3</td>\n",
       "      <td>  name4</td>\n",
       "      <td>  name5</td>\n",
       "      <td>  name6</td>\n",
       "      <td>  name7</td>\n",
       "      <td>  name8</td>\n",
       "      <td>  name9</td>\n",
       "      <td> name10</td>\n",
       "      <td> name11</td>\n",
       "      <td> name12</td>\n",
       "      <td> name13</td>\n",
       "      <td> name14</td>\n",
       "    </tr>\n",
       "  </tbody>\n",
       "</table>\n",
       "<p>15 rows × 15 columns</p>\n",
       "</div>"
      ],
      "text/plain": [
       "        m1      m2      m3      z1      m4      m5      m6    M1.2    M2.2  \\\n",
       "0    name1   name2   name3   name4   name5   name6   name7   name8   name9   \n",
       "1    name2   name3   name4   name5   name6   name7   name8   name9  name10   \n",
       "2    name3   name4   name5   name6   name7   name8   name9  name10  name11   \n",
       "3    name4   name5   name6   name7   name8   name9  name10  name11  name12   \n",
       "4    name5   name6   name7   name8   name9  name10  name11  name12  name13   \n",
       "5    name6   name7   name8   name9  name10  name11  name12  name13  name14   \n",
       "6    name7   name8   name9  name10  name11  name12  name13  name14  name15   \n",
       "7    name8   name9  name10  name11  name12  name13  name14  name15   name1   \n",
       "8    name9  name10  name11  name12  name13  name14  name15   name1   name2   \n",
       "9   name10  name11  name12  name13  name14  name15   name1   name2   name3   \n",
       "10  name11  name12  name13  name14  name15   name1   name2   name3   name4   \n",
       "11  name12  name13  name14  name15   name1   name2   name3   name4   name5   \n",
       "12  name13  name14  name15   name1   name2   name3   name4   name5   name6   \n",
       "13  name14  name15   name1   name2   name3   name4   name5   name6   name7   \n",
       "14  name15   name1   name2   name3   name4   name5   name6   name7   name8   \n",
       "\n",
       "      M3.2      z2    M4.2    M5.2    M6.2   float  \n",
       "0   name10  name11  name12  name13  name14  name15  \n",
       "1   name11  name12  name13  name14  name15   name1  \n",
       "2   name12  name13  name14  name15   name1   name2  \n",
       "3   name13  name14  name15   name1   name2   name3  \n",
       "4   name14  name15   name1   name2   name3   name4  \n",
       "5   name15   name1   name2   name3   name4   name5  \n",
       "6    name1   name2   name3   name4   name5   name6  \n",
       "7    name2   name3   name4   name5   name6   name7  \n",
       "8    name3   name4   name5   name6   name7   name8  \n",
       "9    name4   name5   name6   name7   name8   name9  \n",
       "10   name5   name6   name7   name8   name9  name10  \n",
       "11   name6   name7   name8   name9  name10  name11  \n",
       "12   name7   name8   name9  name10  name11  name12  \n",
       "13   name8   name9  name10  name11  name12  name13  \n",
       "14   name9  name10  name11  name12  name13  name14  \n",
       "\n",
       "[15 rows x 15 columns]"
      ]
     },
     "execution_count": 24,
     "metadata": {},
     "output_type": "execute_result"
    }
   ],
   "source": [
    "lookup"
   ]
  },
  {
   "cell_type": "code",
   "execution_count": 25,
   "metadata": {
    "collapsed": false
   },
   "outputs": [],
   "source": [
    "df = df2"
   ]
  },
  {
   "cell_type": "code",
   "execution_count": 26,
   "metadata": {
    "collapsed": false
   },
   "outputs": [
    {
     "name": "stderr",
     "output_type": "stream",
     "text": [
      "/usr/local/lib/python2.7/dist-packages/pandas/core/generic.py:1830: SettingWithCopyWarning: A value is trying to be set on a copy of a slice from a DataFrame.\n",
      "Try using .loc[row_index,col_indexer] = value instead\n",
      "  self[name] = value\n"
     ]
    },
    {
     "data": {
      "text/plain": [
       "array([  0.,   1.,   2.,   3.,   4.,   5.,   6.,   7.,   8.,   9.,  10.,\n",
       "        11.,  12.])"
      ]
     },
     "execution_count": 26,
     "metadata": {},
     "output_type": "execute_result"
    }
   ],
   "source": [
    "df.Month = df.Month.map(lambda x: x-1)\n",
    "df.Month.unique()"
   ]
  },
  {
   "cell_type": "code",
   "execution_count": 27,
   "metadata": {
    "collapsed": false
   },
   "outputs": [],
   "source": [
    "df_list = []\n",
    "for month in range(0,13):\n",
    "    df_list.append(df[df['Month'] == month])"
   ]
  },
  {
   "cell_type": "code",
   "execution_count": 28,
   "metadata": {
    "collapsed": false
   },
   "outputs": [
    {
     "name": "stderr",
     "output_type": "stream",
     "text": [
      "-c:3: SettingWithCopyWarning: A value is trying to be set on a copy of a slice from a DataFrame.\n",
      "Try using .loc[row_index,col_indexer] = value instead\n",
      "-c:4: SettingWithCopyWarning: A value is trying to be set on a copy of a slice from a DataFrame.\n",
      "Try using .loc[row_index,col_indexer] = value instead\n",
      "-c:5: SettingWithCopyWarning: A value is trying to be set on a copy of a slice from a DataFrame.\n",
      "Try using .loc[row_index,col_indexer] = value instead\n"
     ]
    }
   ],
   "source": [
    "for i, item in enumerate(df.Month.unique()):\n",
    "   lookupdict = lookup.ix[i].to_dict()\n",
    "   df_list[i]['Day reg'] =  df_list[i]['Day reg'].map(lookupdict.get)\n",
    "   df_list[i]['Night reg'] =  df_list[i]['Night reg'].map(lookupdict.get)\n",
    "   df_list[i]['L1 reg'] =  df_list[i]['L1 reg'].map(lookupdict.get)"
   ]
  },
  {
   "cell_type": "code",
   "execution_count": 29,
   "metadata": {
    "collapsed": false
   },
   "outputs": [],
   "source": [
    "df = pd.concat(df_list)"
   ]
  },
  {
   "cell_type": "code",
   "execution_count": 33,
   "metadata": {
    "collapsed": false
   },
   "outputs": [],
   "source": [
    "df = df[['DateTime', 'Day', 'Day reg', 'Night reg', 'L1 reg']]\n",
    "df.to_csv('reg_rota.csv')"
   ]
  },
  {
   "cell_type": "code",
   "execution_count": 34,
   "metadata": {
    "collapsed": false
   },
   "outputs": [
    {
     "data": {
      "text/html": [
       "<div style=\"max-height:1000px;max-width:1500px;overflow:auto;\">\n",
       "<table border=\"1\" class=\"dataframe\">\n",
       "  <thead>\n",
       "    <tr style=\"text-align: right;\">\n",
       "      <th></th>\n",
       "      <th>DateTime</th>\n",
       "      <th>Day</th>\n",
       "      <th>Day reg</th>\n",
       "      <th>Night reg</th>\n",
       "      <th>L1 reg</th>\n",
       "    </tr>\n",
       "  </thead>\n",
       "  <tbody>\n",
       "    <tr>\n",
       "      <th>0</th>\n",
       "      <td> 2014-08-06</td>\n",
       "      <td> Wed</td>\n",
       "      <td> name7</td>\n",
       "      <td> name14</td>\n",
       "      <td>  None</td>\n",
       "    </tr>\n",
       "    <tr>\n",
       "      <th>1</th>\n",
       "      <td> 2014-08-07</td>\n",
       "      <td> Thu</td>\n",
       "      <td> name7</td>\n",
       "      <td> name14</td>\n",
       "      <td>  None</td>\n",
       "    </tr>\n",
       "    <tr>\n",
       "      <th>2</th>\n",
       "      <td> 2014-08-08</td>\n",
       "      <td> Fri</td>\n",
       "      <td> name1</td>\n",
       "      <td> name13</td>\n",
       "      <td>  None</td>\n",
       "    </tr>\n",
       "    <tr>\n",
       "      <th>3</th>\n",
       "      <td> 2014-08-09</td>\n",
       "      <td> Sat</td>\n",
       "      <td> name1</td>\n",
       "      <td> name13</td>\n",
       "      <td> name5</td>\n",
       "    </tr>\n",
       "    <tr>\n",
       "      <th>4</th>\n",
       "      <td> 2014-08-10</td>\n",
       "      <td> Sun</td>\n",
       "      <td> name1</td>\n",
       "      <td> name13</td>\n",
       "      <td> name5</td>\n",
       "    </tr>\n",
       "  </tbody>\n",
       "</table>\n",
       "<p>5 rows × 5 columns</p>\n",
       "</div>"
      ],
      "text/plain": [
       "     DateTime  Day Day reg Night reg L1 reg\n",
       "0  2014-08-06  Wed   name7    name14   None\n",
       "1  2014-08-07  Thu   name7    name14   None\n",
       "2  2014-08-08  Fri   name1    name13   None\n",
       "3  2014-08-09  Sat   name1    name13  name5\n",
       "4  2014-08-10  Sun   name1    name13  name5\n",
       "\n",
       "[5 rows x 5 columns]"
      ]
     },
     "execution_count": 34,
     "metadata": {},
     "output_type": "execute_result"
    }
   ],
   "source": [
    "df.head()"
   ]
  },
  {
   "cell_type": "code",
   "execution_count": 37,
   "metadata": {
    "collapsed": false
   },
   "outputs": [
    {
     "data": {
      "text/plain": [
       "55.466666666666669"
      ]
     },
     "execution_count": 37,
     "metadata": {},
     "output_type": "execute_result"
    }
   ],
   "source": [
    "df[['Day reg', 'Night reg', 'L1 reg']].stack().value_counts().mean() #sanity check"
   ]
  },
  {
   "cell_type": "code",
   "execution_count": 38,
   "metadata": {
    "collapsed": false
   },
   "outputs": [
    {
     "data": {
      "text/plain": [
       "name10    62\n",
       "name3     60\n",
       "name13    60\n",
       "name9     57\n",
       "name2     57\n",
       "name14    57\n",
       "name11    55\n",
       "name8     54\n",
       "name1     54\n",
       "name7     54\n",
       "name15    54\n",
       "name4     53\n",
       "name12    53\n",
       "name5     51\n",
       "name6     51\n",
       "dtype: int64"
      ]
     },
     "execution_count": 38,
     "metadata": {},
     "output_type": "execute_result"
    }
   ],
   "source": [
    "df[['Day reg', 'Night reg', 'L1 reg']].stack().value_counts()"
   ]
  },
  {
   "cell_type": "code",
   "execution_count": null,
   "metadata": {
    "collapsed": false
   },
   "outputs": [],
   "source": []
  }
 ],
 "metadata": {
  "kernelspec": {
   "display_name": "Python 2",
   "language": "python",
   "name": "python2"
  },
  "language_info": {
   "codemirror_mode": {
    "name": "ipython",
    "version": 2
   },
   "file_extension": ".py",
   "mimetype": "text/x-python",
   "name": "python",
   "nbconvert_exporter": "python",
   "pygments_lexer": "ipython2",
   "version": "2.7.6"
  }
 },
 "nbformat": 4,
 "nbformat_minor": 0
}
